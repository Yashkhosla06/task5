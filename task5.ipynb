{
 "cells": [
  {
   "cell_type": "code",
   "execution_count": 1,
   "id": "ee7e3ae6-9b13-432d-81d9-e664118266ec",
   "metadata": {},
   "outputs": [
    {
     "name": "stdout",
     "output_type": "stream",
     "text": [
      "Requirement already satisfied: csvkit in /opt/anaconda3/lib/python3.11/site-packages (2.0.0)\n",
      "Requirement already satisfied: agate>=1.6.3 in /opt/anaconda3/lib/python3.11/site-packages (from csvkit) (1.11.0)\n",
      "Requirement already satisfied: agate-excel>=0.2.2 in /opt/anaconda3/lib/python3.11/site-packages (from csvkit) (0.4.1)\n",
      "Requirement already satisfied: agate-dbf>=0.2.2 in /opt/anaconda3/lib/python3.11/site-packages (from csvkit) (0.2.3)\n",
      "Requirement already satisfied: agate-sql>=0.5.3 in /opt/anaconda3/lib/python3.11/site-packages (from csvkit) (0.7.2)\n",
      "Requirement already satisfied: openpyxl in /opt/anaconda3/lib/python3.11/site-packages (from csvkit) (3.0.10)\n",
      "Requirement already satisfied: sqlalchemy in /opt/anaconda3/lib/python3.11/site-packages (from csvkit) (2.0.25)\n",
      "Requirement already satisfied: xlrd in /opt/anaconda3/lib/python3.11/site-packages (from csvkit) (2.0.1)\n",
      "Requirement already satisfied: Babel>=2.0 in /opt/anaconda3/lib/python3.11/site-packages (from agate>=1.6.3->csvkit) (2.11.0)\n",
      "Requirement already satisfied: isodate>=0.5.4 in /opt/anaconda3/lib/python3.11/site-packages (from agate>=1.6.3->csvkit) (0.6.1)\n",
      "Requirement already satisfied: leather>=0.3.2 in /opt/anaconda3/lib/python3.11/site-packages (from agate>=1.6.3->csvkit) (0.4.0)\n",
      "Requirement already satisfied: parsedatetime!=2.5,>=2.1 in /opt/anaconda3/lib/python3.11/site-packages (from agate>=1.6.3->csvkit) (2.6)\n",
      "Requirement already satisfied: python-slugify>=1.2.1 in /opt/anaconda3/lib/python3.11/site-packages (from agate>=1.6.3->csvkit) (5.0.2)\n",
      "Requirement already satisfied: pytimeparse>=1.1.5 in /opt/anaconda3/lib/python3.11/site-packages (from agate>=1.6.3->csvkit) (1.1.8)\n",
      "Requirement already satisfied: dbfread>=2.0.5 in /opt/anaconda3/lib/python3.11/site-packages (from agate-dbf>=0.2.2->csvkit) (2.0.7)\n",
      "Requirement already satisfied: olefile in /opt/anaconda3/lib/python3.11/site-packages (from agate-excel>=0.2.2->csvkit) (0.47)\n",
      "Requirement already satisfied: et_xmlfile in /opt/anaconda3/lib/python3.11/site-packages (from openpyxl->csvkit) (1.1.0)\n",
      "Requirement already satisfied: typing-extensions>=4.6.0 in /opt/anaconda3/lib/python3.11/site-packages (from sqlalchemy->csvkit) (4.9.0)\n",
      "Requirement already satisfied: pytz>=2015.7 in /opt/anaconda3/lib/python3.11/site-packages (from Babel>=2.0->agate>=1.6.3->csvkit) (2023.3.post1)\n",
      "Requirement already satisfied: six in /opt/anaconda3/lib/python3.11/site-packages (from isodate>=0.5.4->agate>=1.6.3->csvkit) (1.16.0)\n",
      "Requirement already satisfied: text-unidecode>=1.3 in /opt/anaconda3/lib/python3.11/site-packages (from python-slugify>=1.2.1->agate>=1.6.3->csvkit) (1.3)\n"
     ]
    }
   ],
   "source": [
    "!pip install csvkit\n"
   ]
  },
  {
   "cell_type": "code",
   "execution_count": null,
   "id": "257380d7-c9e7-49df-af69-fc2f533dcdc4",
   "metadata": {},
   "outputs": [
    {
     "name": "stdout",
     "output_type": "stream",
     "text": [
      "-rw-r--r--@ 1 yashkhosla  staff   3.4G  4 Jun 04:21 complaints.csv\n",
      "Date received,Product,Sub-product,Issue,Sub-issue,Consumer complaint narrative,Company public response,Company,State,ZIP code,Tags,Consumer consent provided?,Submitted via,Date sent to company,Company response to consumer,Timely response?,Consumer disputed?,Complaint ID\n",
      "2024-05-31,Credit reporting or other personal consumer reports,Credit reporting,Improper use of your report,Reporting company used your report improperly,,,\"EQUIFAX, INC.\",LA,70068,,,Web,2024-05-31,In progress,Yes,N/A,9142726\n",
      "2024-05-31,Credit card,General-purpose credit card or charge card,Incorrect information on your report,Account status incorrect,,,\"EQUIFAX, INC.\",LA,710XX,,,Web,2024-05-31,In progress,Yes,N/A,9146642\n",
      "2024-06-01,Credit reporting or other personal consumer reports,Credit reporting,Problem with fraud alerts or security freezes,,,,\"EQUIFAX, INC.\",TX,751XX,,,Web,2024-06-01,In progress,Yes,N/A,9147894\n",
      "2024-05-31,\"Money transfer, virtual currency, or money service\",Domestic (US) money transfer,Other transaction problem,,,,\"SANTANDER HOLDINGS USA, INC.\",CA,93065,,N/A,Referral,2024-05-31,In progress,Yes,N/A,9147677\n",
      "2024-05-16,Credit card,General-purpose credit card or charge card,Fees or interest,Problem with fees,,,SYNCHRONY FINANCIAL,OK,74464,,,Web,2024-05-16,In progress,Yes,N/A,9016471\n",
      "2024-05-30,Debt collection,Other debt,Written notification about debt,Notification didn't disclose it was an attempt to collect a debt,,,\"EQUIFAX, INC.\",GA,30141,,,Web,2024-05-30,In progress,Yes,N/A,9134776\n",
      "2024-05-21,Credit reporting or other personal consumer reports,Credit reporting,Incorrect information on your report,Account status incorrect,,,\"EQUIFAX, INC.\",NY,10009,,,Web,2024-05-21,In progress,Yes,N/A,9053943\n",
      "2024-05-31,Credit reporting or other personal consumer reports,Credit reporting,Incorrect information on your report,Account status incorrect,,,\"EQUIFAX, INC.\",FL,32514,,,Web,2024-05-31,In progress,Yes,N/A,9148728\n",
      "2024-05-13,Credit card,Store credit card,Getting a credit card,Card opened without my consent or knowledge,,,SYNCHRONY FINANCIAL,CA,91343,,N/A,Phone,2024-05-15,In progress,Yes,N/A,8997279\n",
      "  1: Date received\n",
      "  2: Product\n",
      "  3: Sub-product\n",
      "  4: Issue\n",
      "  5: Sub-issue\n",
      "  6: Consumer complaint narrative\n",
      "  7: Company public response\n",
      "  8: Company\n",
      "  9: State\n",
      " 10: ZIP code\n",
      " 11: Tags\n",
      " 12: Consumer consent provided?\n",
      " 13: Submitted via\n",
      " 14: Date sent to company\n",
      " 15: Company response to consumer\n",
      " 16: Timely response?\n",
      " 17: Consumer disputed?\n",
      " 18: Complaint ID\n"
     ]
    }
   ],
   "source": [
    "# Check file size\n",
    "!ls -lh \"complaints.csv\"\n",
    "\n",
    "# View the first few lines\n",
    "!head -n 10 \"complaints.csv\"\n",
    "\n",
    "# List column names using csvkit\n",
    "!csvcut -n \"complaints.csv\"\n",
    "\n",
    "# Get a summary of the dataset using csvkit\n",
    "!csvstat \"complaints.csv\"\n"
   ]
  },
  {
   "cell_type": "code",
   "execution_count": null,
   "id": "9b130d33-2ad1-440b-8c88-abf5e8379a9d",
   "metadata": {},
   "outputs": [],
   "source": []
  }
 ],
 "metadata": {
  "kernelspec": {
   "display_name": "Python 3 (ipykernel)",
   "language": "python",
   "name": "python3"
  },
  "language_info": {
   "codemirror_mode": {
    "name": "ipython",
    "version": 3
   },
   "file_extension": ".py",
   "mimetype": "text/x-python",
   "name": "python",
   "nbconvert_exporter": "python",
   "pygments_lexer": "ipython3",
   "version": "3.11.7"
  }
 },
 "nbformat": 4,
 "nbformat_minor": 5
}
